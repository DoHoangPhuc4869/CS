{
  "nbformat": 4,
  "nbformat_minor": 0,
  "metadata": {
    "colab": {
      "name": "du_doan.ipynb",
      "provenance": []
    },
    "kernelspec": {
      "name": "python3",
      "display_name": "Python 3"
    },
    "language_info": {
      "name": "python"
    }
  },
  "cells": [
    {
      "cell_type": "code",
      "metadata": {
        "id": "4AuI3htCAtJ5"
      },
      "source": [
        "import pandas as pd \n",
        "import numpy as np\n",
        "import matplotlib.pyplot as plt"
      ],
      "execution_count": 91,
      "outputs": []
    },
    {
      "cell_type": "code",
      "metadata": {
        "id": "d0TIrj_GA-a8"
      },
      "source": [
        "wecode=pd.read_csv(\"/content/drive/MyDrive/wecode.csv\",engine='python')\n",
        "score=pd.read_csv(\"/content/drive/MyDrive/score_training.csv\",engine='python')"
      ],
      "execution_count": 92,
      "outputs": []
    },
    {
      "cell_type": "code",
      "metadata": {
        "colab": {
          "base_uri": "https://localhost:8080/"
        },
        "id": "BuBNKoa6cvA1",
        "outputId": "c13a637e-54aa-41b0-e589-4def1e3eaf15"
      },
      "source": [
        "from google.colab import drive\n",
        "drive.mount('/content/drive')"
      ],
      "execution_count": 94,
      "outputs": [
        {
          "output_type": "stream",
          "text": [
            "Drive already mounted at /content/drive; to attempt to forcibly remount, call drive.mount(\"/content/drive\", force_remount=True).\n"
          ],
          "name": "stdout"
        }
      ]
    },
    {
      "cell_type": "code",
      "metadata": {
        "colab": {
          "base_uri": "https://localhost:8080/"
        },
        "id": "QYNoYWWWUHN7",
        "outputId": "547e64dd-58f8-41b5-bfc6-bdbe49a62b11"
      },
      "source": [
        "wecode.info() #thông tin file wecode"
      ],
      "execution_count": 95,
      "outputs": [
        {
          "output_type": "stream",
          "text": [
            "<class 'pandas.core.frame.DataFrame'>\n",
            "RangeIndex: 264606 entries, 0 to 264605\n",
            "Data columns (total 12 columns):\n",
            " #   Column         Non-Null Count   Dtype \n",
            "---  ------         --------------   ----- \n",
            " 0   id             264606 non-null  int64 \n",
            " 1   assignment_id  264606 non-null  int64 \n",
            " 2   problem_id     264606 non-null  int64 \n",
            " 3   user_id        264606 non-null  int64 \n",
            " 4   is_final       264606 non-null  int64 \n",
            " 5   status         264605 non-null  object\n",
            " 6   pre_score      264606 non-null  int64 \n",
            " 7   coefficient    264606 non-null  object\n",
            " 8   file_name      264606 non-null  object\n",
            " 9   language_id    264606 non-null  int64 \n",
            " 10  created_at     264606 non-null  object\n",
            " 11  updated_at     264606 non-null  object\n",
            "dtypes: int64(7), object(5)\n",
            "memory usage: 24.2+ MB\n"
          ],
          "name": "stdout"
        }
      ]
    },
    {
      "cell_type": "code",
      "metadata": {
        "colab": {
          "base_uri": "https://localhost:8080/"
        },
        "id": "k9STw2XwVg0v",
        "outputId": "35d3494f-381b-4438-ad73-d1ab089bc2ab"
      },
      "source": [
        "score.info() #thông tin file score"
      ],
      "execution_count": 96,
      "outputs": [
        {
          "output_type": "stream",
          "text": [
            "<class 'pandas.core.frame.DataFrame'>\n",
            "RangeIndex: 975 entries, 0 to 974\n",
            "Data columns (total 7 columns):\n",
            " #   Column  Non-Null Count  Dtype \n",
            "---  ------  --------------  ----- \n",
            " 0   id      975 non-null    int64 \n",
            " 1   QT      973 non-null    object\n",
            " 2   GK      974 non-null    object\n",
            " 3   TH      974 non-null    object\n",
            " 4   CK      974 non-null    object\n",
            " 5   TBM     974 non-null    object\n",
            " 6   TBTL    974 non-null    object\n",
            "dtypes: int64(1), object(6)\n",
            "memory usage: 53.4+ KB\n"
          ],
          "name": "stdout"
        }
      ]
    },
    {
      "cell_type": "markdown",
      "metadata": {
        "id": "ffCMluuQYXQs"
      },
      "source": [
        "#**Lọc dữ liệu từ file WECODE**"
      ]
    },
    {
      "cell_type": "code",
      "metadata": {
        "id": "J4IaASEJbMJg"
      },
      "source": [
        "# tạo DF mới với các cột cần thiết\n",
        "new_data = pd.DataFrame({'user_id': wecode['user_id'],\n",
        "                         'sum_problems': wecode['is_final'],\n",
        "                         'sum_submits': 1,\n",
        "                         'sum_pre_score': wecode['pre_score']==10000,\n",
        "                         'correct_probs': map(int, (wecode['pre_score'] == 10000) & (wecode['is_final'] == 1)),\n",
        "                         'pre_score':wecode['pre_score'],})\n"
      ],
      "execution_count": 97,
      "outputs": []
    },
    {
      "cell_type": "code",
      "metadata": {
        "colab": {
          "base_uri": "https://localhost:8080/",
          "height": 450
        },
        "id": "kvJsftb1bVge",
        "outputId": "f22d044e-b77a-4b77-e16b-22e59272a926"
      },
      "source": [
        "# group theo id\n",
        "new_data = new_data.groupby('user_id').sum()\n",
        "new_data['times']=new_data['sum_submits']/new_data['correct_probs']\n",
        "new_data['percent']=1/new_data['times']\n",
        "new_data.replace([np.inf, -np.inf], np.nan, inplace=True)\n",
        "new_data = new_data.dropna()\n",
        "new_data"
      ],
      "execution_count": 98,
      "outputs": [
        {
          "output_type": "execute_result",
          "data": {
            "text/html": [
              "<div>\n",
              "<style scoped>\n",
              "    .dataframe tbody tr th:only-of-type {\n",
              "        vertical-align: middle;\n",
              "    }\n",
              "\n",
              "    .dataframe tbody tr th {\n",
              "        vertical-align: top;\n",
              "    }\n",
              "\n",
              "    .dataframe thead th {\n",
              "        text-align: right;\n",
              "    }\n",
              "</style>\n",
              "<table border=\"1\" class=\"dataframe\">\n",
              "  <thead>\n",
              "    <tr style=\"text-align: right;\">\n",
              "      <th></th>\n",
              "      <th>sum_problems</th>\n",
              "      <th>sum_submits</th>\n",
              "      <th>sum_pre_score</th>\n",
              "      <th>correct_probs</th>\n",
              "      <th>pre_score</th>\n",
              "      <th>times</th>\n",
              "      <th>percent</th>\n",
              "    </tr>\n",
              "    <tr>\n",
              "      <th>user_id</th>\n",
              "      <th></th>\n",
              "      <th></th>\n",
              "      <th></th>\n",
              "      <th></th>\n",
              "      <th></th>\n",
              "      <th></th>\n",
              "      <th></th>\n",
              "    </tr>\n",
              "  </thead>\n",
              "  <tbody>\n",
              "    <tr>\n",
              "      <th>1</th>\n",
              "      <td>2</td>\n",
              "      <td>2</td>\n",
              "      <td>1</td>\n",
              "      <td>1</td>\n",
              "      <td>10000</td>\n",
              "      <td>2.000000</td>\n",
              "      <td>0.500000</td>\n",
              "    </tr>\n",
              "    <tr>\n",
              "      <th>4</th>\n",
              "      <td>38</td>\n",
              "      <td>54</td>\n",
              "      <td>44</td>\n",
              "      <td>37</td>\n",
              "      <td>466000</td>\n",
              "      <td>1.459459</td>\n",
              "      <td>0.685185</td>\n",
              "    </tr>\n",
              "    <tr>\n",
              "      <th>5</th>\n",
              "      <td>5</td>\n",
              "      <td>6</td>\n",
              "      <td>3</td>\n",
              "      <td>3</td>\n",
              "      <td>30000</td>\n",
              "      <td>2.000000</td>\n",
              "      <td>0.500000</td>\n",
              "    </tr>\n",
              "    <tr>\n",
              "      <th>6</th>\n",
              "      <td>88</td>\n",
              "      <td>130</td>\n",
              "      <td>89</td>\n",
              "      <td>85</td>\n",
              "      <td>965637</td>\n",
              "      <td>1.529412</td>\n",
              "      <td>0.653846</td>\n",
              "    </tr>\n",
              "    <tr>\n",
              "      <th>11</th>\n",
              "      <td>12</td>\n",
              "      <td>50</td>\n",
              "      <td>19</td>\n",
              "      <td>9</td>\n",
              "      <td>317268</td>\n",
              "      <td>5.555556</td>\n",
              "      <td>0.180000</td>\n",
              "    </tr>\n",
              "    <tr>\n",
              "      <th>...</th>\n",
              "      <td>...</td>\n",
              "      <td>...</td>\n",
              "      <td>...</td>\n",
              "      <td>...</td>\n",
              "      <td>...</td>\n",
              "      <td>...</td>\n",
              "      <td>...</td>\n",
              "    </tr>\n",
              "    <tr>\n",
              "      <th>1860</th>\n",
              "      <td>48</td>\n",
              "      <td>76</td>\n",
              "      <td>29</td>\n",
              "      <td>28</td>\n",
              "      <td>405440</td>\n",
              "      <td>2.714286</td>\n",
              "      <td>0.368421</td>\n",
              "    </tr>\n",
              "    <tr>\n",
              "      <th>1862</th>\n",
              "      <td>6</td>\n",
              "      <td>12</td>\n",
              "      <td>4</td>\n",
              "      <td>4</td>\n",
              "      <td>40000</td>\n",
              "      <td>3.000000</td>\n",
              "      <td>0.333333</td>\n",
              "    </tr>\n",
              "    <tr>\n",
              "      <th>1864</th>\n",
              "      <td>63</td>\n",
              "      <td>187</td>\n",
              "      <td>30</td>\n",
              "      <td>28</td>\n",
              "      <td>563292</td>\n",
              "      <td>6.678571</td>\n",
              "      <td>0.149733</td>\n",
              "    </tr>\n",
              "    <tr>\n",
              "      <th>1865</th>\n",
              "      <td>17</td>\n",
              "      <td>99</td>\n",
              "      <td>10</td>\n",
              "      <td>10</td>\n",
              "      <td>189460</td>\n",
              "      <td>9.900000</td>\n",
              "      <td>0.101010</td>\n",
              "    </tr>\n",
              "    <tr>\n",
              "      <th>1868</th>\n",
              "      <td>27</td>\n",
              "      <td>47</td>\n",
              "      <td>38</td>\n",
              "      <td>27</td>\n",
              "      <td>390000</td>\n",
              "      <td>1.740741</td>\n",
              "      <td>0.574468</td>\n",
              "    </tr>\n",
              "  </tbody>\n",
              "</table>\n",
              "<p>1139 rows × 7 columns</p>\n",
              "</div>"
            ],
            "text/plain": [
              "         sum_problems  sum_submits  ...     times   percent\n",
              "user_id                             ...                    \n",
              "1                   2            2  ...  2.000000  0.500000\n",
              "4                  38           54  ...  1.459459  0.685185\n",
              "5                   5            6  ...  2.000000  0.500000\n",
              "6                  88          130  ...  1.529412  0.653846\n",
              "11                 12           50  ...  5.555556  0.180000\n",
              "...               ...          ...  ...       ...       ...\n",
              "1860               48           76  ...  2.714286  0.368421\n",
              "1862                6           12  ...  3.000000  0.333333\n",
              "1864               63          187  ...  6.678571  0.149733\n",
              "1865               17           99  ...  9.900000  0.101010\n",
              "1868               27           47  ...  1.740741  0.574468\n",
              "\n",
              "[1139 rows x 7 columns]"
            ]
          },
          "metadata": {
            "tags": []
          },
          "execution_count": 98
        }
      ]
    },
    {
      "cell_type": "markdown",
      "metadata": {
        "id": "iQXnWwFcYk0I"
      },
      "source": [
        "#**Lọc dữ liệu file score**"
      ]
    },
    {
      "cell_type": "code",
      "metadata": {
        "id": "RatQXEn5WmIg",
        "colab": {
          "base_uri": "https://localhost:8080/"
        },
        "outputId": "7b25bc91-636f-4859-bb59-16fedb7b0b0c"
      },
      "source": [
        "temp=pd.DataFrame({'user_id':score['id'],'CK':score['CK']})\n",
        "temp.info()"
      ],
      "execution_count": 99,
      "outputs": [
        {
          "output_type": "stream",
          "text": [
            "<class 'pandas.core.frame.DataFrame'>\n",
            "RangeIndex: 975 entries, 0 to 974\n",
            "Data columns (total 2 columns):\n",
            " #   Column   Non-Null Count  Dtype \n",
            "---  ------   --------------  ----- \n",
            " 0   user_id  975 non-null    int64 \n",
            " 1   CK       974 non-null    object\n",
            "dtypes: int64(1), object(1)\n",
            "memory usage: 15.4+ KB\n"
          ],
          "name": "stdout"
        }
      ]
    },
    {
      "cell_type": "code",
      "metadata": {
        "colab": {
          "base_uri": "https://localhost:8080/",
          "height": 419
        },
        "id": "STMpHCHRZin8",
        "outputId": "d05c2ba2-e886-470d-d9ae-4f3785633a18"
      },
      "source": [
        "temp = temp.where(temp.CK != '\\xa0') # Xóa ' '\n",
        "temp = temp.where(temp.CK == temp.CK) # Xóa nan\n",
        "temp"
      ],
      "execution_count": 100,
      "outputs": [
        {
          "output_type": "execute_result",
          "data": {
            "text/html": [
              "<div>\n",
              "<style scoped>\n",
              "    .dataframe tbody tr th:only-of-type {\n",
              "        vertical-align: middle;\n",
              "    }\n",
              "\n",
              "    .dataframe tbody tr th {\n",
              "        vertical-align: top;\n",
              "    }\n",
              "\n",
              "    .dataframe thead th {\n",
              "        text-align: right;\n",
              "    }\n",
              "</style>\n",
              "<table border=\"1\" class=\"dataframe\">\n",
              "  <thead>\n",
              "    <tr style=\"text-align: right;\">\n",
              "      <th></th>\n",
              "      <th>user_id</th>\n",
              "      <th>CK</th>\n",
              "    </tr>\n",
              "  </thead>\n",
              "  <tbody>\n",
              "    <tr>\n",
              "      <th>0</th>\n",
              "      <td>22.0</td>\n",
              "      <td>8.5</td>\n",
              "    </tr>\n",
              "    <tr>\n",
              "      <th>1</th>\n",
              "      <td>24.0</td>\n",
              "      <td>9.5</td>\n",
              "    </tr>\n",
              "    <tr>\n",
              "      <th>2</th>\n",
              "      <td>27.0</td>\n",
              "      <td>10</td>\n",
              "    </tr>\n",
              "    <tr>\n",
              "      <th>3</th>\n",
              "      <td>28.0</td>\n",
              "      <td>9.5</td>\n",
              "    </tr>\n",
              "    <tr>\n",
              "      <th>4</th>\n",
              "      <td>29.0</td>\n",
              "      <td>8.5</td>\n",
              "    </tr>\n",
              "    <tr>\n",
              "      <th>...</th>\n",
              "      <td>...</td>\n",
              "      <td>...</td>\n",
              "    </tr>\n",
              "    <tr>\n",
              "      <th>970</th>\n",
              "      <td>1857.0</td>\n",
              "      <td>4</td>\n",
              "    </tr>\n",
              "    <tr>\n",
              "      <th>971</th>\n",
              "      <td>1859.0</td>\n",
              "      <td>1.5</td>\n",
              "    </tr>\n",
              "    <tr>\n",
              "      <th>972</th>\n",
              "      <td>1862.0</td>\n",
              "      <td>7.5</td>\n",
              "    </tr>\n",
              "    <tr>\n",
              "      <th>973</th>\n",
              "      <td>1865.0</td>\n",
              "      <td>7.5</td>\n",
              "    </tr>\n",
              "    <tr>\n",
              "      <th>974</th>\n",
              "      <td>1866.0</td>\n",
              "      <td>5</td>\n",
              "    </tr>\n",
              "  </tbody>\n",
              "</table>\n",
              "<p>975 rows × 2 columns</p>\n",
              "</div>"
            ],
            "text/plain": [
              "     user_id   CK\n",
              "0       22.0  8.5\n",
              "1       24.0  9.5\n",
              "2       27.0   10\n",
              "3       28.0  9.5\n",
              "4       29.0  8.5\n",
              "..       ...  ...\n",
              "970   1857.0    4\n",
              "971   1859.0  1.5\n",
              "972   1862.0  7.5\n",
              "973   1865.0  7.5\n",
              "974   1866.0    5\n",
              "\n",
              "[975 rows x 2 columns]"
            ]
          },
          "metadata": {
            "tags": []
          },
          "execution_count": 100
        }
      ]
    },
    {
      "cell_type": "code",
      "metadata": {
        "colab": {
          "base_uri": "https://localhost:8080/",
          "height": 419
        },
        "id": "30CVlf-zEj6_",
        "outputId": "bb6ac466-c7a7-4e27-e6e5-1dea850fc48b"
      },
      "source": [
        "data=pd.merge(new_data,temp,how='inner',on='user_id')\n",
        "data"
      ],
      "execution_count": 101,
      "outputs": [
        {
          "output_type": "execute_result",
          "data": {
            "text/html": [
              "<div>\n",
              "<style scoped>\n",
              "    .dataframe tbody tr th:only-of-type {\n",
              "        vertical-align: middle;\n",
              "    }\n",
              "\n",
              "    .dataframe tbody tr th {\n",
              "        vertical-align: top;\n",
              "    }\n",
              "\n",
              "    .dataframe thead th {\n",
              "        text-align: right;\n",
              "    }\n",
              "</style>\n",
              "<table border=\"1\" class=\"dataframe\">\n",
              "  <thead>\n",
              "    <tr style=\"text-align: right;\">\n",
              "      <th></th>\n",
              "      <th>user_id</th>\n",
              "      <th>sum_problems</th>\n",
              "      <th>sum_submits</th>\n",
              "      <th>sum_pre_score</th>\n",
              "      <th>correct_probs</th>\n",
              "      <th>pre_score</th>\n",
              "      <th>times</th>\n",
              "      <th>percent</th>\n",
              "      <th>CK</th>\n",
              "    </tr>\n",
              "  </thead>\n",
              "  <tbody>\n",
              "    <tr>\n",
              "      <th>0</th>\n",
              "      <td>24</td>\n",
              "      <td>77</td>\n",
              "      <td>164</td>\n",
              "      <td>80</td>\n",
              "      <td>72</td>\n",
              "      <td>1031674</td>\n",
              "      <td>2.277778</td>\n",
              "      <td>0.439024</td>\n",
              "      <td>9.5</td>\n",
              "    </tr>\n",
              "    <tr>\n",
              "      <th>1</th>\n",
              "      <td>27</td>\n",
              "      <td>5</td>\n",
              "      <td>13</td>\n",
              "      <td>4</td>\n",
              "      <td>3</td>\n",
              "      <td>52000</td>\n",
              "      <td>4.333333</td>\n",
              "      <td>0.230769</td>\n",
              "      <td>10</td>\n",
              "    </tr>\n",
              "    <tr>\n",
              "      <th>2</th>\n",
              "      <td>29</td>\n",
              "      <td>80</td>\n",
              "      <td>199</td>\n",
              "      <td>75</td>\n",
              "      <td>72</td>\n",
              "      <td>1225828</td>\n",
              "      <td>2.763889</td>\n",
              "      <td>0.361809</td>\n",
              "      <td>8.5</td>\n",
              "    </tr>\n",
              "    <tr>\n",
              "      <th>3</th>\n",
              "      <td>34</td>\n",
              "      <td>84</td>\n",
              "      <td>218</td>\n",
              "      <td>81</td>\n",
              "      <td>81</td>\n",
              "      <td>1206981</td>\n",
              "      <td>2.691358</td>\n",
              "      <td>0.371560</td>\n",
              "      <td>6.5</td>\n",
              "    </tr>\n",
              "    <tr>\n",
              "      <th>4</th>\n",
              "      <td>35</td>\n",
              "      <td>151</td>\n",
              "      <td>297</td>\n",
              "      <td>152</td>\n",
              "      <td>145</td>\n",
              "      <td>1809718</td>\n",
              "      <td>2.048276</td>\n",
              "      <td>0.488215</td>\n",
              "      <td>4.5</td>\n",
              "    </tr>\n",
              "    <tr>\n",
              "      <th>...</th>\n",
              "      <td>...</td>\n",
              "      <td>...</td>\n",
              "      <td>...</td>\n",
              "      <td>...</td>\n",
              "      <td>...</td>\n",
              "      <td>...</td>\n",
              "      <td>...</td>\n",
              "      <td>...</td>\n",
              "      <td>...</td>\n",
              "    </tr>\n",
              "    <tr>\n",
              "      <th>790</th>\n",
              "      <td>1856</td>\n",
              "      <td>31</td>\n",
              "      <td>64</td>\n",
              "      <td>23</td>\n",
              "      <td>23</td>\n",
              "      <td>329074</td>\n",
              "      <td>2.782609</td>\n",
              "      <td>0.359375</td>\n",
              "      <td>7.5</td>\n",
              "    </tr>\n",
              "    <tr>\n",
              "      <th>791</th>\n",
              "      <td>1857</td>\n",
              "      <td>40</td>\n",
              "      <td>55</td>\n",
              "      <td>37</td>\n",
              "      <td>37</td>\n",
              "      <td>389000</td>\n",
              "      <td>1.486486</td>\n",
              "      <td>0.672727</td>\n",
              "      <td>4</td>\n",
              "    </tr>\n",
              "    <tr>\n",
              "      <th>792</th>\n",
              "      <td>1859</td>\n",
              "      <td>30</td>\n",
              "      <td>31</td>\n",
              "      <td>3</td>\n",
              "      <td>3</td>\n",
              "      <td>39000</td>\n",
              "      <td>10.333333</td>\n",
              "      <td>0.096774</td>\n",
              "      <td>1.5</td>\n",
              "    </tr>\n",
              "    <tr>\n",
              "      <th>793</th>\n",
              "      <td>1862</td>\n",
              "      <td>6</td>\n",
              "      <td>12</td>\n",
              "      <td>4</td>\n",
              "      <td>4</td>\n",
              "      <td>40000</td>\n",
              "      <td>3.000000</td>\n",
              "      <td>0.333333</td>\n",
              "      <td>7.5</td>\n",
              "    </tr>\n",
              "    <tr>\n",
              "      <th>794</th>\n",
              "      <td>1865</td>\n",
              "      <td>17</td>\n",
              "      <td>99</td>\n",
              "      <td>10</td>\n",
              "      <td>10</td>\n",
              "      <td>189460</td>\n",
              "      <td>9.900000</td>\n",
              "      <td>0.101010</td>\n",
              "      <td>7.5</td>\n",
              "    </tr>\n",
              "  </tbody>\n",
              "</table>\n",
              "<p>795 rows × 9 columns</p>\n",
              "</div>"
            ],
            "text/plain": [
              "     user_id  sum_problems  sum_submits  ...      times   percent   CK\n",
              "0         24            77          164  ...   2.277778  0.439024  9.5\n",
              "1         27             5           13  ...   4.333333  0.230769   10\n",
              "2         29            80          199  ...   2.763889  0.361809  8.5\n",
              "3         34            84          218  ...   2.691358  0.371560  6.5\n",
              "4         35           151          297  ...   2.048276  0.488215  4.5\n",
              "..       ...           ...          ...  ...        ...       ...  ...\n",
              "790     1856            31           64  ...   2.782609  0.359375  7.5\n",
              "791     1857            40           55  ...   1.486486  0.672727    4\n",
              "792     1859            30           31  ...  10.333333  0.096774  1.5\n",
              "793     1862             6           12  ...   3.000000  0.333333  7.5\n",
              "794     1865            17           99  ...   9.900000  0.101010  7.5\n",
              "\n",
              "[795 rows x 9 columns]"
            ]
          },
          "metadata": {
            "tags": []
          },
          "execution_count": 101
        }
      ]
    },
    {
      "cell_type": "code",
      "metadata": {
        "id": "y3chiJAZNO5u"
      },
      "source": [
        "data=data.sort_values(by='CK')"
      ],
      "execution_count": 102,
      "outputs": []
    },
    {
      "cell_type": "code",
      "metadata": {
        "colab": {
          "base_uri": "https://localhost:8080/",
          "height": 279
        },
        "id": "H72Y4MK-aI-o",
        "outputId": "3ede74d2-a28f-4d7b-e748-65d561137724"
      },
      "source": [
        "plt.plot(data['pre_score'],data['CK'],'o',color='plum')\n",
        "plt.xlabel('pre_score')\n",
        "plt.ylabel('score')\n",
        "plt.show()"
      ],
      "execution_count": 103,
      "outputs": [
        {
          "output_type": "display_data",
          "data": {
            "image/png": "[encoded data removed]",
            "text/plain": [
              "<Figure size 432x288 with 1 Axes>"
            ]
          },
          "metadata": {
            "tags": [],
            "needs_background": "light"
          }
        }
      ]
    },
    {
      "cell_type": "markdown",
      "metadata": {
        "id": "-D6MulvSbCxg"
      },
      "source": [
        "Nhìn vào biểu đồ ta thấy tập trung chủ yếu ở bên trái (pre_score thấp <> điểm cao). Vậy điểm precore không thể phản ánh được chính xác điểm cuối kì các bạn cao hay thấp"
      ]
    },
    {
      "cell_type": "code",
      "metadata": {
        "colab": {
          "base_uri": "https://localhost:8080/",
          "height": 280
        },
        "id": "7CK5s10sLXIi",
        "outputId": "e111401f-eb14-4f99-f65a-56763b77bc02"
      },
      "source": [
        "\n",
        "plt.plot(data['sum_pre_score']/data['sum_problems'], data['CK'], 'o',color='goldenrod')\n",
        "plt.xlabel('sum_pre_score / sum_problems')\n",
        "plt.ylabel('score')\n",
        "plt.show()"
      ],
      "execution_count": 104,
      "outputs": [
        {
          "output_type": "display_data",
          "data": {
            "image/png": "[encoded data removed]",
            "text/plain": [
              "<Figure size 432x288 with 1 Axes>"
            ]
          },
          "metadata": {
            "tags": [],
            "needs_background": "light"
          }
        }
      ]
    },
    {
      "cell_type": "code",
      "metadata": {
        "colab": {
          "base_uri": "https://localhost:8080/",
          "height": 280
        },
        "id": "td2sCr9eVeBg",
        "outputId": "95369794-1522-4ef1-adb6-2daf71db0f38"
      },
      "source": [
        "plt.plot(data['sum_problems']/data['sum_submits'], data['CK'] , 'o',color='firebrick')\n",
        "plt.xlabel('sum_problems / sum_submits')\n",
        "plt.ylabel('score')\n",
        "plt.show()\n"
      ],
      "execution_count": 105,
      "outputs": [
        {
          "output_type": "display_data",
          "data": {
            "image/png": "[encoded data removed]",
            "text/plain": [
              "<Figure size 432x288 with 1 Axes>"
            ]
          },
          "metadata": {
            "tags": [],
            "needs_background": "light"
          }
        }
      ]
    },
    {
      "cell_type": "markdown",
      "metadata": {
        "id": "SJNPACSAfRvJ"
      },
      "source": [
        "tập trung chủ yếu ở 0.2- 0.8 --> dù submit nhiều hay ít thì điểm cuối kì vẫn có thể cao"
      ]
    },
    {
      "cell_type": "code",
      "metadata": {
        "colab": {
          "base_uri": "https://localhost:8080/",
          "height": 280
        },
        "id": "aaqAZUYiXLAv",
        "outputId": "2f8274b7-1e37-4457-f4a2-08dc784fb4fc"
      },
      "source": [
        "plt.plot(data['sum_pre_score']/data['sum_submits'], data['CK'], 'o',color='lawngreen')\n",
        "plt.xlabel('sum_pre_score / sum_submits')\n",
        "plt.ylabel('score')\n",
        "plt.show()"
      ],
      "execution_count": 106,
      "outputs": [
        {
          "output_type": "display_data",
          "data": {
            "image/png": "[encoded data removed]",
            "text/plain": [
              "<Figure size 432x288 with 1 Axes>"
            ]
          },
          "metadata": {
            "tags": [],
            "needs_background": "light"
          }
        }
      ]
    },
    {
      "cell_type": "markdown",
      "metadata": {
        "id": "ksXBbT58f_Gc"
      },
      "source": [
        "#Training"
      ]
    },
    {
      "cell_type": "code",
      "metadata": {
        "id": "-pimxWcOf9s9"
      },
      "source": [
        "from sklearn.model_selection import train_test_split\n",
        "from sklearn.linear_model import LinearRegression\n",
        "from sklearn.metrics import mean_squared_error\n",
        "from sklearn.preprocessing import StandardScaler\n",
        "from sklearn import metrics\n",
        "import math"
      ],
      "execution_count": 107,
      "outputs": []
    },
    {
      "cell_type": "code",
      "metadata": {
        "id": "li9XOp3SgLZN"
      },
      "source": [
        "data_train = data.copy()\n",
        "CK = data_train['CK']\n",
        "data_train.drop(columns=['CK','user_id'],inplace = True)"
      ],
      "execution_count": 136,
      "outputs": []
    },
    {
      "cell_type": "code",
      "metadata": {
        "colab": {
          "base_uri": "https://localhost:8080/",
          "height": 419
        },
        "id": "MRdT3VzCiDWM",
        "outputId": "a6de008c-c41b-471b-deae-2e3235225af8"
      },
      "source": [
        "x_train,x_test,y_train,y_test = train_test_split(data_train,CK,test_size=0.2, random_state=0)\n",
        "x_train"
      ],
      "execution_count": 137,
      "outputs": [
        {
          "output_type": "execute_result",
          "data": {
            "text/html": [
              "<div>\n",
              "<style scoped>\n",
              "    .dataframe tbody tr th:only-of-type {\n",
              "        vertical-align: middle;\n",
              "    }\n",
              "\n",
              "    .dataframe tbody tr th {\n",
              "        vertical-align: top;\n",
              "    }\n",
              "\n",
              "    .dataframe thead th {\n",
              "        text-align: right;\n",
              "    }\n",
              "</style>\n",
              "<table border=\"1\" class=\"dataframe\">\n",
              "  <thead>\n",
              "    <tr style=\"text-align: right;\">\n",
              "      <th></th>\n",
              "      <th>sum_problems</th>\n",
              "      <th>sum_submits</th>\n",
              "      <th>sum_pre_score</th>\n",
              "      <th>correct_probs</th>\n",
              "      <th>pre_score</th>\n",
              "      <th>times</th>\n",
              "      <th>percent</th>\n",
              "    </tr>\n",
              "  </thead>\n",
              "  <tbody>\n",
              "    <tr>\n",
              "      <th>764</th>\n",
              "      <td>20</td>\n",
              "      <td>79</td>\n",
              "      <td>15</td>\n",
              "      <td>15</td>\n",
              "      <td>160333</td>\n",
              "      <td>5.266667</td>\n",
              "      <td>0.189873</td>\n",
              "    </tr>\n",
              "    <tr>\n",
              "      <th>548</th>\n",
              "      <td>102</td>\n",
              "      <td>272</td>\n",
              "      <td>102</td>\n",
              "      <td>99</td>\n",
              "      <td>1443233</td>\n",
              "      <td>2.747475</td>\n",
              "      <td>0.363971</td>\n",
              "    </tr>\n",
              "    <tr>\n",
              "      <th>303</th>\n",
              "      <td>171</td>\n",
              "      <td>317</td>\n",
              "      <td>170</td>\n",
              "      <td>158</td>\n",
              "      <td>2061679</td>\n",
              "      <td>2.006329</td>\n",
              "      <td>0.498423</td>\n",
              "    </tr>\n",
              "    <tr>\n",
              "      <th>334</th>\n",
              "      <td>87</td>\n",
              "      <td>164</td>\n",
              "      <td>70</td>\n",
              "      <td>70</td>\n",
              "      <td>1000151</td>\n",
              "      <td>2.342857</td>\n",
              "      <td>0.426829</td>\n",
              "    </tr>\n",
              "    <tr>\n",
              "      <th>555</th>\n",
              "      <td>109</td>\n",
              "      <td>714</td>\n",
              "      <td>110</td>\n",
              "      <td>106</td>\n",
              "      <td>4114025</td>\n",
              "      <td>6.735849</td>\n",
              "      <td>0.148459</td>\n",
              "    </tr>\n",
              "    <tr>\n",
              "      <th>...</th>\n",
              "      <td>...</td>\n",
              "      <td>...</td>\n",
              "      <td>...</td>\n",
              "      <td>...</td>\n",
              "      <td>...</td>\n",
              "      <td>...</td>\n",
              "      <td>...</td>\n",
              "    </tr>\n",
              "    <tr>\n",
              "      <th>707</th>\n",
              "      <td>183</td>\n",
              "      <td>450</td>\n",
              "      <td>176</td>\n",
              "      <td>170</td>\n",
              "      <td>2775448</td>\n",
              "      <td>2.647059</td>\n",
              "      <td>0.377778</td>\n",
              "    </tr>\n",
              "    <tr>\n",
              "      <th>52</th>\n",
              "      <td>62</td>\n",
              "      <td>117</td>\n",
              "      <td>56</td>\n",
              "      <td>56</td>\n",
              "      <td>648571</td>\n",
              "      <td>2.089286</td>\n",
              "      <td>0.478632</td>\n",
              "    </tr>\n",
              "    <tr>\n",
              "      <th>330</th>\n",
              "      <td>79</td>\n",
              "      <td>203</td>\n",
              "      <td>73</td>\n",
              "      <td>73</td>\n",
              "      <td>1170785</td>\n",
              "      <td>2.780822</td>\n",
              "      <td>0.359606</td>\n",
              "    </tr>\n",
              "    <tr>\n",
              "      <th>343</th>\n",
              "      <td>45</td>\n",
              "      <td>157</td>\n",
              "      <td>36</td>\n",
              "      <td>35</td>\n",
              "      <td>454832</td>\n",
              "      <td>4.485714</td>\n",
              "      <td>0.222930</td>\n",
              "    </tr>\n",
              "    <tr>\n",
              "      <th>329</th>\n",
              "      <td>200</td>\n",
              "      <td>616</td>\n",
              "      <td>194</td>\n",
              "      <td>187</td>\n",
              "      <td>3243950</td>\n",
              "      <td>3.294118</td>\n",
              "      <td>0.303571</td>\n",
              "    </tr>\n",
              "  </tbody>\n",
              "</table>\n",
              "<p>636 rows × 7 columns</p>\n",
              "</div>"
            ],
            "text/plain": [
              "     sum_problems  sum_submits  sum_pre_score  ...  pre_score     times   percent\n",
              "764            20           79             15  ...     160333  5.266667  0.189873\n",
              "548           102          272            102  ...    1443233  2.747475  0.363971\n",
              "303           171          317            170  ...    2061679  2.006329  0.498423\n",
              "334            87          164             70  ...    1000151  2.342857  0.426829\n",
              "555           109          714            110  ...    4114025  6.735849  0.148459\n",
              "..            ...          ...            ...  ...        ...       ...       ...\n",
              "707           183          450            176  ...    2775448  2.647059  0.377778\n",
              "52             62          117             56  ...     648571  2.089286  0.478632\n",
              "330            79          203             73  ...    1170785  2.780822  0.359606\n",
              "343            45          157             36  ...     454832  4.485714  0.222930\n",
              "329           200          616            194  ...    3243950  3.294118  0.303571\n",
              "\n",
              "[636 rows x 7 columns]"
            ]
          },
          "metadata": {
            "tags": []
          },
          "execution_count": 137
        }
      ]
    },
    {
      "cell_type": "code",
      "metadata": {
        "colab": {
          "base_uri": "https://localhost:8080/"
        },
        "id": "VEqONfoKiS1G",
        "outputId": "849f5bee-8c80-4b2a-d436-b60876e69034"
      },
      "source": [
        "y_train"
      ],
      "execution_count": 138,
      "outputs": [
        {
          "output_type": "execute_result",
          "data": {
            "text/plain": [
              "764    2.5\n",
              "548      8\n",
              "303    2.5\n",
              "334    7.5\n",
              "555    8.5\n",
              "      ... \n",
              "707      9\n",
              "52     4.5\n",
              "330      8\n",
              "343    7.5\n",
              "329    8.5\n",
              "Name: CK, Length: 636, dtype: object"
            ]
          },
          "metadata": {
            "tags": []
          },
          "execution_count": 138
        }
      ]
    },
    {
      "cell_type": "code",
      "metadata": {
        "id": "xMl74CLJiXN4"
      },
      "source": [
        "model = LinearRegression().fit(x_train,y_train)"
      ],
      "execution_count": 139,
      "outputs": []
    },
    {
      "cell_type": "code",
      "metadata": {
        "id": "yptp56cjjZdu"
      },
      "source": [
        "y_pre = model.predict(x_test)\n",
        "y_pre = np.round(y_pre*2)/2"
      ],
      "execution_count": 144,
      "outputs": []
    },
    {
      "cell_type": "code",
      "metadata": {
        "colab": {
          "base_uri": "https://localhost:8080/"
        },
        "id": "uqpTHN6Njdpk",
        "outputId": "1a39bf65-cd0c-4ddc-85ba-3a4f46787cc0"
      },
      "source": [
        "y_pre"
      ],
      "execution_count": 145,
      "outputs": [
        {
          "output_type": "execute_result",
          "data": {
            "text/plain": [
              "array([6.5, 5.5, 6.5, 5.5, 6.5, 5.5, 4.5, 5. , 5.5, 5.5, 8. , 8. , 8. ,\n",
              "       5. , 6. , 5.5, 4. , 5.5, 5.5, 5.5, 5.5, 9.5, 9.5, 7. , 5.5, 4. ,\n",
              "       5.5, 7.5, 5.5, 6. , 5.5, 5. , 5.5, 7. , 5. , 9.5, 7. , 5.5, 6. ,\n",
              "       6. , 8.5, 6. , 8. , 5.5, 6. , 5.5, 6.5, 7. , 6.5, 6. , 5.5, 6. ,\n",
              "       6. , 7. , 5.5, 5.5, 6.5, 7.5, 5.5, 7.5, 5.5, 8. , 6. , 7.5, 5.5,\n",
              "       5. , 5.5, 5. , 5. , 8.5, 6. , 4.5, 7.5, 7. , 6. , 5.5, 6.5, 6. ,\n",
              "       6.5, 6.5, 5.5, 7. , 5.5, 6.5, 9.5, 6. , 5.5, 5. , 6. , 5.5, 7.5,\n",
              "       7.5, 6. , 8. , 6. , 6.5, 4.5, 5.5, 5.5, 5. , 6. , 5. , 7. , 6. ,\n",
              "       8. , 7. , 5.5, 5. , 5.5, 7.5, 5.5, 8.5, 7.5, 5.5, 6. , 6. , 7.5,\n",
              "       5.5, 5.5, 6. , 5. , 6.5, 6. , 6. , 5.5, 6.5, 5. , 6. , 6.5, 5.5,\n",
              "       9. , 5.5, 7.5, 7. , 6.5, 7.5, 5. , 7.5, 8. , 8.5, 6. , 5. , 5.5,\n",
              "       5. , 5.5, 5.5, 5.5, 6.5, 5. , 5. , 7.5, 4.5, 5.5, 6.5, 5.5, 6. ,\n",
              "       7. , 5.5, 4.5])"
            ]
          },
          "metadata": {
            "tags": []
          },
          "execution_count": 145
        }
      ]
    },
    {
      "cell_type": "code",
      "metadata": {
        "colab": {
          "base_uri": "https://localhost:8080/"
        },
        "id": "LOvk7p9Gjh5H",
        "outputId": "87f34b5f-fd7b-453b-9e16-0b50e7757956"
      },
      "source": [
        "mse = metrics.mean_squared_error(y_test, y_pre)\n",
        "print('MSE : ',mse)"
      ],
      "execution_count": 146,
      "outputs": [
        {
          "output_type": "stream",
          "text": [
            "MSE :  3.9952830188679247\n"
          ],
          "name": "stdout"
        }
      ]
    }
  ]
}